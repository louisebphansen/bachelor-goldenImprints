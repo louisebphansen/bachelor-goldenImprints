{
 "cells": [
  {
   "cell_type": "code",
   "execution_count": 1,
   "metadata": {},
   "outputs": [
    {
     "name": "stdout",
     "output_type": "stream",
     "text": [
      "Defaulting to user installation because normal site-packages is not writeable\n",
      "Requirement already satisfied: pandas in /home/ucloud/.local/lib/python3.12/site-packages (2.2.2)\n",
      "Requirement already satisfied: matplotlib in /home/ucloud/.local/lib/python3.12/site-packages (3.9.0)\n",
      "Collecting scikit-learn\n",
      "  Downloading scikit_learn-1.5.0-cp312-cp312-manylinux_2_17_x86_64.manylinux2014_x86_64.whl.metadata (11 kB)\n",
      "Requirement already satisfied: datasets[vision] in /home/ucloud/.local/lib/python3.12/site-packages (2.20.0)\n",
      "Requirement already satisfied: numpy>=1.26.0 in /home/ucloud/.local/lib/python3.12/site-packages (from pandas) (2.0.0)\n",
      "Requirement already satisfied: python-dateutil>=2.8.2 in /home/ucloud/.local/lib/python3.12/site-packages (from pandas) (2.9.0.post0)\n",
      "Requirement already satisfied: pytz>=2020.1 in /home/ucloud/.local/lib/python3.12/site-packages (from pandas) (2024.1)\n",
      "Requirement already satisfied: tzdata>=2022.7 in /home/ucloud/.local/lib/python3.12/site-packages (from pandas) (2024.1)\n",
      "Requirement already satisfied: contourpy>=1.0.1 in /home/ucloud/.local/lib/python3.12/site-packages (from matplotlib) (1.2.1)\n",
      "Requirement already satisfied: cycler>=0.10 in /home/ucloud/.local/lib/python3.12/site-packages (from matplotlib) (0.12.1)\n",
      "Requirement already satisfied: fonttools>=4.22.0 in /home/ucloud/.local/lib/python3.12/site-packages (from matplotlib) (4.53.0)\n",
      "Requirement already satisfied: kiwisolver>=1.3.1 in /home/ucloud/.local/lib/python3.12/site-packages (from matplotlib) (1.4.5)\n",
      "Requirement already satisfied: packaging>=20.0 in /home/ucloud/.local/lib/python3.12/site-packages (from matplotlib) (24.1)\n",
      "Requirement already satisfied: pillow>=8 in /home/ucloud/.local/lib/python3.12/site-packages (from matplotlib) (10.3.0)\n",
      "Requirement already satisfied: pyparsing>=2.3.1 in /usr/lib/python3/dist-packages (from matplotlib) (3.1.1)\n",
      "Collecting scipy>=1.6.0 (from scikit-learn)\n",
      "  Downloading scipy-1.14.0-cp312-cp312-manylinux_2_17_x86_64.manylinux2014_x86_64.whl.metadata (60 kB)\n",
      "\u001b[2K     \u001b[90m━━━━━━━━━━━━━━━━━━━━━━━━━━━━━━━━━━━━━━━━\u001b[0m \u001b[32m60.8/60.8 kB\u001b[0m \u001b[31m1.3 MB/s\u001b[0m eta \u001b[36m0:00:00\u001b[0mta \u001b[36m0:00:01\u001b[0m\n",
      "\u001b[?25hCollecting joblib>=1.2.0 (from scikit-learn)\n",
      "  Downloading joblib-1.4.2-py3-none-any.whl.metadata (5.4 kB)\n",
      "Collecting threadpoolctl>=3.1.0 (from scikit-learn)\n",
      "  Downloading threadpoolctl-3.5.0-py3-none-any.whl.metadata (13 kB)\n",
      "Requirement already satisfied: filelock in /home/ucloud/.local/lib/python3.12/site-packages (from datasets[vision]) (3.15.4)\n",
      "Requirement already satisfied: pyarrow>=15.0.0 in /home/ucloud/.local/lib/python3.12/site-packages (from datasets[vision]) (16.1.0)\n",
      "Requirement already satisfied: pyarrow-hotfix in /home/ucloud/.local/lib/python3.12/site-packages (from datasets[vision]) (0.6)\n",
      "Requirement already satisfied: dill<0.3.9,>=0.3.0 in /home/ucloud/.local/lib/python3.12/site-packages (from datasets[vision]) (0.3.8)\n",
      "Requirement already satisfied: requests>=2.32.2 in /home/ucloud/.local/lib/python3.12/site-packages (from datasets[vision]) (2.32.3)\n",
      "Requirement already satisfied: tqdm>=4.66.3 in /home/ucloud/.local/lib/python3.12/site-packages (from datasets[vision]) (4.66.4)\n",
      "Requirement already satisfied: xxhash in /home/ucloud/.local/lib/python3.12/site-packages (from datasets[vision]) (3.4.1)\n",
      "Requirement already satisfied: multiprocess in /home/ucloud/.local/lib/python3.12/site-packages (from datasets[vision]) (0.70.16)\n",
      "Requirement already satisfied: fsspec<=2024.5.0,>=2023.1.0 in /home/ucloud/.local/lib/python3.12/site-packages (from fsspec[http]<=2024.5.0,>=2023.1.0->datasets[vision]) (2024.5.0)\n",
      "Requirement already satisfied: aiohttp in /home/ucloud/.local/lib/python3.12/site-packages (from datasets[vision]) (3.9.5)\n",
      "Requirement already satisfied: huggingface-hub>=0.21.2 in /home/ucloud/.local/lib/python3.12/site-packages (from datasets[vision]) (0.23.4)\n",
      "Requirement already satisfied: pyyaml>=5.1 in /home/ucloud/.local/lib/python3.12/site-packages (from datasets[vision]) (6.0.1)\n",
      "Requirement already satisfied: aiosignal>=1.1.2 in /home/ucloud/.local/lib/python3.12/site-packages (from aiohttp->datasets[vision]) (1.3.1)\n",
      "Requirement already satisfied: attrs>=17.3.0 in /home/ucloud/.local/lib/python3.12/site-packages (from aiohttp->datasets[vision]) (23.2.0)\n",
      "Requirement already satisfied: frozenlist>=1.1.1 in /home/ucloud/.local/lib/python3.12/site-packages (from aiohttp->datasets[vision]) (1.4.1)\n",
      "Requirement already satisfied: multidict<7.0,>=4.5 in /home/ucloud/.local/lib/python3.12/site-packages (from aiohttp->datasets[vision]) (6.0.5)\n",
      "Requirement already satisfied: yarl<2.0,>=1.0 in /home/ucloud/.local/lib/python3.12/site-packages (from aiohttp->datasets[vision]) (1.9.4)\n",
      "Requirement already satisfied: typing-extensions>=3.7.4.3 in /home/ucloud/.local/lib/python3.12/site-packages (from huggingface-hub>=0.21.2->datasets[vision]) (4.12.2)\n",
      "Requirement already satisfied: six>=1.5 in /usr/lib/python3/dist-packages (from python-dateutil>=2.8.2->pandas) (1.16.0)\n",
      "Requirement already satisfied: charset-normalizer<4,>=2 in /home/ucloud/.local/lib/python3.12/site-packages (from requests>=2.32.2->datasets[vision]) (3.3.2)\n",
      "Requirement already satisfied: idna<4,>=2.5 in /home/ucloud/.local/lib/python3.12/site-packages (from requests>=2.32.2->datasets[vision]) (3.7)\n",
      "Requirement already satisfied: urllib3<3,>=1.21.1 in /home/ucloud/.local/lib/python3.12/site-packages (from requests>=2.32.2->datasets[vision]) (2.2.2)\n",
      "Requirement already satisfied: certifi>=2017.4.17 in /home/ucloud/.local/lib/python3.12/site-packages (from requests>=2.32.2->datasets[vision]) (2024.6.2)\n",
      "Downloading scikit_learn-1.5.0-cp312-cp312-manylinux_2_17_x86_64.manylinux2014_x86_64.whl (13.1 MB)\n",
      "\u001b[2K   \u001b[90m━━━━━━━━━━━━━━━━━━━━━━━━━━━━━━━━━━━━━━━━\u001b[0m \u001b[32m13.1/13.1 MB\u001b[0m \u001b[31m64.2 MB/s\u001b[0m eta \u001b[36m0:00:00\u001b[0m:00:01\u001b[0m0:01\u001b[0m\n",
      "\u001b[?25hDownloading joblib-1.4.2-py3-none-any.whl (301 kB)\n",
      "\u001b[2K   \u001b[90m━━━━━━━━━━━━━━━━━━━━━━━━━━━━━━━━━━━━━━━━\u001b[0m \u001b[32m301.8/301.8 kB\u001b[0m \u001b[31m7.6 MB/s\u001b[0m eta \u001b[36m0:00:00\u001b[0m:00:01\u001b[0m\n",
      "\u001b[?25hDownloading scipy-1.14.0-cp312-cp312-manylinux_2_17_x86_64.manylinux2014_x86_64.whl (40.8 MB)\n",
      "\u001b[2K   \u001b[90m━━━━━━━━━━━━━━━━━━━━━━━━━━━━━━━━━━━━━━━━\u001b[0m \u001b[32m40.8/40.8 MB\u001b[0m \u001b[31m43.9 MB/s\u001b[0m eta \u001b[36m0:00:00\u001b[0m:00:01\u001b[0m00:01\u001b[0m\n",
      "\u001b[?25hDownloading threadpoolctl-3.5.0-py3-none-any.whl (18 kB)\n",
      "Installing collected packages: threadpoolctl, scipy, joblib, scikit-learn\n",
      "Successfully installed joblib-1.4.2 scikit-learn-1.5.0 scipy-1.14.0 threadpoolctl-3.5.0\n",
      "\n",
      "\u001b[1m[\u001b[0m\u001b[34;49mnotice\u001b[0m\u001b[1;39;49m]\u001b[0m\u001b[39;49m A new release of pip is available: \u001b[0m\u001b[31;49m24.1\u001b[0m\u001b[39;49m -> \u001b[0m\u001b[32;49m24.1.1\u001b[0m\n",
      "\u001b[1m[\u001b[0m\u001b[34;49mnotice\u001b[0m\u001b[1;39;49m]\u001b[0m\u001b[39;49m To update, run: \u001b[0m\u001b[32;49mpip install --upgrade pip\u001b[0m\n"
     ]
    }
   ],
   "source": [
    "!pip install pandas matplotlib scikit-learn datasets[vision]"
   ]
  },
  {
   "cell_type": "code",
   "execution_count": 3,
   "metadata": {},
   "outputs": [],
   "source": [
    "import pandas as pd\n",
    "import datasets\n",
    "from sklearn.metrics import f1_score"
   ]
  },
  {
   "cell_type": "markdown",
   "metadata": {},
   "source": [
    "## Calculate weighted F1 accuracies"
   ]
  },
  {
   "cell_type": "code",
   "execution_count": 4,
   "metadata": {},
   "outputs": [],
   "source": [
    "convnextv2 = datasets.load_from_disk('../datasets/convnextv2_huge_test')\n",
    "convnextv2_y_true_genre = convnextv2['genre']\n",
    "convnextv2_y_true_style = convnextv2['style']\n",
    "convnextv2_y_true_artist = convnextv2['artist']\n",
    "convnextv2_y_pred_genre = np.load('../out/y_pred/convnextv2_huge_genre_y_pred.npy')\n",
    "convnextv2_y_pred_style = np.load('../out/y_pred/convnextv2_huge_style_y_pred.npy')\n",
    "convnextv2_y_pred_artist = np.load('../out/y_pred/convnextv2_huge_artist_y_pred.npy')"
   ]
  },
  {
   "cell_type": "code",
   "execution_count": 5,
   "metadata": {},
   "outputs": [
    {
     "data": {
      "text/plain": [
       "np.float64(0.4915705807058935)"
      ]
     },
     "execution_count": 5,
     "metadata": {},
     "output_type": "execute_result"
    }
   ],
   "source": [
    "f1_score(convnextv2_y_true_genre, convnextv2_y_pred_genre, average='weighted')"
   ]
  },
  {
   "cell_type": "code",
   "execution_count": 6,
   "metadata": {},
   "outputs": [
    {
     "data": {
      "text/plain": [
       "np.float64(0.3572483068262286)"
      ]
     },
     "execution_count": 6,
     "metadata": {},
     "output_type": "execute_result"
    }
   ],
   "source": [
    "f1_score(convnextv2_y_true_style, convnextv2_y_pred_style, average='weighted')"
   ]
  },
  {
   "cell_type": "code",
   "execution_count": 7,
   "metadata": {},
   "outputs": [
    {
     "data": {
      "text/plain": [
       "np.float64(0.4239500070605566)"
      ]
     },
     "execution_count": 7,
     "metadata": {},
     "output_type": "execute_result"
    }
   ],
   "source": [
    "f1_score(convnextv2_y_true_artist, convnextv2_y_pred_artist, average='weighted')"
   ]
  },
  {
   "cell_type": "code",
   "execution_count": 8,
   "metadata": {},
   "outputs": [],
   "source": [
    "beit = datasets.load_from_disk('../datasets/beit_large_test')\n",
    "beit_y_true_genre = beit['genre']\n",
    "beit_y_true_style = beit['style']\n",
    "beit_y_true_artist = beit['artist']\n",
    "beit_y_pred_genre = np.load('../out/y_pred/beit_large_genre_y_pred.npy')\n",
    "beit_y_pred_style = np.load('../out/y_pred/beit_large_style_y_pred.npy')\n",
    "beit_y_pred_artist = np.load('../out/y_pred/beit_large_artist_y_pred.npy')"
   ]
  },
  {
   "cell_type": "code",
   "execution_count": 9,
   "metadata": {},
   "outputs": [
    {
     "data": {
      "text/plain": [
       "np.float64(0.7287064497443942)"
      ]
     },
     "execution_count": 9,
     "metadata": {},
     "output_type": "execute_result"
    }
   ],
   "source": [
    "f1_score(beit_y_true_genre, beit_y_pred_genre, average='weighted')"
   ]
  },
  {
   "cell_type": "code",
   "execution_count": 10,
   "metadata": {},
   "outputs": [
    {
     "data": {
      "text/plain": [
       "np.float64(0.6499764184490044)"
      ]
     },
     "execution_count": 10,
     "metadata": {},
     "output_type": "execute_result"
    }
   ],
   "source": [
    "f1_score(beit_y_true_style, beit_y_pred_style, average='weighted')"
   ]
  },
  {
   "cell_type": "code",
   "execution_count": 11,
   "metadata": {},
   "outputs": [
    {
     "data": {
      "text/plain": [
       "np.float64(0.6984866920108995)"
      ]
     },
     "execution_count": 11,
     "metadata": {},
     "output_type": "execute_result"
    }
   ],
   "source": [
    "f1_score(beit_y_true_artist, beit_y_pred_artist, average='weighted')"
   ]
  },
  {
   "cell_type": "code",
   "execution_count": 31,
   "metadata": {},
   "outputs": [],
   "source": [
    "convnext_clip = datasets.load_from_disk('../datasets/convnext-clip_test')\n",
    "convnext_clip_y_true_genre = convnext_clip['genre']\n",
    "convnext_clip_y_true_style = convnext_clip['style']\n",
    "convnext_clip_y_true_artist = convnext_clip['artist']\n",
    "convnext_clip_y_pred_genre = np.load('../out/y_pred/convnext-clip_genre_y_pred.npy')\n",
    "convnext_clip_y_pred_style = np.load('../out/y_pred/convnext-clip_style_y_pred.npy')\n",
    "convnext_clip_y_pred_artist = np.load('../out/y_pred/convnext-clip_artist_y_pred.npy')"
   ]
  },
  {
   "cell_type": "code",
   "execution_count": null,
   "metadata": {},
   "outputs": [],
   "source": [
    "f1_score(convnext_clip_y_true_genre, convnext_clip_y_pred_genre, average='weighted')"
   ]
  },
  {
   "cell_type": "code",
   "execution_count": null,
   "metadata": {},
   "outputs": [],
   "source": [
    "f1_score(convnext_clip_y_true_style, convnext_clip_y_pred_style, average='weighted')"
   ]
  },
  {
   "cell_type": "code",
   "execution_count": null,
   "metadata": {},
   "outputs": [],
   "source": [
    "f1_score(convnext_clip_y_true_artist, convnext_clip_y_pred_artist, average='weighted')"
   ]
  },
  {
   "cell_type": "code",
   "execution_count": 13,
   "metadata": {},
   "outputs": [],
   "source": [
    "## EVA-CLIP\n",
    "eva_clip = datasets.load_from_disk('../datasets/eva-clip_test')\n",
    "eva_clip_y_true_genre = eva_clip['genre']\n",
    "eva_clip_y_true_style = eva_clip['style']\n",
    "eva_clip_y_true_artist = eva_clip['artist']\n",
    "eva_clip_y_pred_genre = np.load('../out/y_pred/eva-clip_genre_y_pred.npy')\n",
    "eva_clip_y_pred_style = np.load('../out/y_pred/eva-clip_style_y_pred.npy')\n",
    "eva_clip_y_pred_artist = np.load('../out/y_pred/eva-clip_artist_y_pred.npy')"
   ]
  },
  {
   "cell_type": "code",
   "execution_count": 14,
   "metadata": {},
   "outputs": [
    {
     "data": {
      "text/plain": [
       "np.float64(0.7498262420358387)"
      ]
     },
     "execution_count": 14,
     "metadata": {},
     "output_type": "execute_result"
    }
   ],
   "source": [
    "f1_score(eva_clip_y_true_genre, eva_clip_y_pred_genre, average='weighted')"
   ]
  },
  {
   "cell_type": "code",
   "execution_count": 15,
   "metadata": {},
   "outputs": [
    {
     "data": {
      "text/plain": [
       "np.float64(0.6693686192811995)"
      ]
     },
     "execution_count": 15,
     "metadata": {},
     "output_type": "execute_result"
    }
   ],
   "source": [
    "f1_score(eva_clip_y_true_style, eva_clip_y_pred_style, average='weighted')"
   ]
  },
  {
   "cell_type": "code",
   "execution_count": 16,
   "metadata": {},
   "outputs": [
    {
     "data": {
      "text/plain": [
       "np.float64(0.6805630878326493)"
      ]
     },
     "execution_count": 16,
     "metadata": {},
     "output_type": "execute_result"
    }
   ],
   "source": [
    "f1_score(eva_clip_y_true_artist, eva_clip_y_pred_artist, average='weighted')"
   ]
  },
  {
   "cell_type": "code",
   "execution_count": 17,
   "metadata": {},
   "outputs": [],
   "source": [
    "eva02_clip = datasets.load_from_disk('../datasets/eva02_clip_336_test')\n",
    "eva02_clip_y_true_genre = eva02_clip['genre']\n",
    "eva02_clip_y_true_style = eva02_clip['style']\n",
    "eva02_clip_y_true_artist = eva02_clip['artist']\n",
    "eva02_clip_y_pred_genre = np.load('../out/y_pred/eva02_clip_336_genre_y_pred.npy')\n",
    "eva02_clip_y_pred_style = np.load('../out/y_pred/eva02_clip_336_style_y_pred.npy')\n",
    "eva02_clip_y_pred_artist = np.load('../out/y_pred/eva02_clip_336_artist_y_pred.npy')"
   ]
  },
  {
   "cell_type": "code",
   "execution_count": 18,
   "metadata": {},
   "outputs": [
    {
     "data": {
      "text/plain": [
       "np.float64(0.7781011821227837)"
      ]
     },
     "execution_count": 18,
     "metadata": {},
     "output_type": "execute_result"
    }
   ],
   "source": [
    "f1_score(eva02_clip_y_true_genre, eva02_clip_y_pred_genre, average='weighted')"
   ]
  },
  {
   "cell_type": "code",
   "execution_count": 19,
   "metadata": {},
   "outputs": [
    {
     "data": {
      "text/plain": [
       "np.float64(0.7022049424730842)"
      ]
     },
     "execution_count": 19,
     "metadata": {},
     "output_type": "execute_result"
    }
   ],
   "source": [
    "f1_score(eva02_clip_y_true_style, eva02_clip_y_pred_style, average='weighted')"
   ]
  },
  {
   "cell_type": "code",
   "execution_count": 20,
   "metadata": {},
   "outputs": [
    {
     "data": {
      "text/plain": [
       "np.float64(0.7489936124524048)"
      ]
     },
     "execution_count": 20,
     "metadata": {},
     "output_type": "execute_result"
    }
   ],
   "source": [
    "f1_score(eva02_clip_y_true_artist, eva02_clip_y_pred_artist, average='weighted')"
   ]
  }
 ],
 "metadata": {
  "kernelspec": {
   "display_name": "Python 3",
   "language": "python",
   "name": "python3"
  },
  "language_info": {
   "codemirror_mode": {
    "name": "ipython",
    "version": 3
   },
   "file_extension": ".py",
   "mimetype": "text/x-python",
   "name": "python",
   "nbconvert_exporter": "python",
   "pygments_lexer": "ipython3",
   "version": "3.12.3"
  }
 },
 "nbformat": 4,
 "nbformat_minor": 2
}
